{
 "cells": [
  {
   "cell_type": "code",
   "execution_count": 1,
   "metadata": {},
   "outputs": [],
   "source": [
    "import json \n",
    "import pandas as pd"
   ]
  },
  {
   "cell_type": "code",
   "execution_count": 77,
   "metadata": {},
   "outputs": [],
   "source": [
    "with open(\"../data_scraping/data.json\", \"r\") as f:\n",
    "    all_data_dict = json.load(f)"
   ]
  },
  {
   "cell_type": "code",
   "execution_count": 78,
   "metadata": {},
   "outputs": [],
   "source": [
    "## cleaning data from empty strings in dictionary\n",
    "for keys in all_data_dict:\n",
    "    keys_to_delete = [item for item in all_data_dict[keys] if item ==\"\"]\n",
    "    for key in keys_to_delete:\n",
    "        del all_data_dict[keys][key] \n"
   ]
  },
  {
   "cell_type": "code",
   "execution_count": 79,
   "metadata": {},
   "outputs": [],
   "source": [
    "\n",
    "general_info_indicators=['Region', 'Population\\xa0(000, 2021)', 'Pop. density\\xa0(per km2, 2021)', 'Capital city', 'Capital city pop.\\xa0(000, 2021)', 'UN membership date', 'Surface area\\xa0(km2)', 'Sex ratio\\xa0(m per 100 f)', 'National currency', 'Exchange rate\\xa0(per US$)']\n",
    "economic_indicators =['GDP: Gross domestic product\\xa0(million current US$)', 'GDP growth rate\\xa0(annual %, const. 2015 prices)', 'GDP per capita\\xa0(current US$)', 'Economy: Agriculture\\xa0(% of Gross Value Added)', 'Economy: Industry\\xa0(% of Gross Value Added)', 'Economy: Services and other activity\\xa0(% of GVA)', 'Employment in agricultureh\\xa0(% of employed)', 'Employment in industryh\\xa0(% of employed)', 'Employment in servicese\\xa0(% employed)', 'Unemploymenth\\xa0(% of labour force)', 'Labour force participation rateh\\xa0(female/male pop. %)', 'CPI: Consumer Price Index\\xa0(2010=100)', 'Agricultural production index\\xa0(2014-2016=100)', 'International trade: exports\\xa0(million current US$)', 'International trade: imports\\xa0(million current US$)', 'International trade: balance\\xa0(million current US$)', 'Balance of payments, current account\\xa0(million US$)']\n",
    "social_indicators = ['Population growth ratei\\xa0(average annual %)', 'Urban population\\xa0(% of total population)', 'Urban population growth ratei\\xa0(average annual %)', 'Fertility rate, totali\\xa0(live births per woman)', 'Life expectancy at birthi\\xa0(females/males, years)', 'Population age distribution\\xa0(0-14/60+ years old, %)', 'International migrant stockj\\xa0(000/% of total pop.)', 'Refugees and others of concern to UNHCR\\xa0(000)','Infant mortality ratei\\xa0(per 1 000 live births)','Health: Current expenditure\\xa0(% of GDP)','Health: Physicians\\xa0(per 1 000 pop.)', 'Education: Government expenditure\\xa0(% of GDP)', 'Education: Primary gross enrol. ratio\\xa0(f/m per 100 pop.)', 'Education: Secondary gross enrol. ratio\\xa0(f/m per 100 pop.)', 'Education: Upper secondary gross enrol. ratio\\xa0(f/m per 100 pop.)', 'Intentional homicide rate\\xa0(per 100 000 pop.)', 'Seats held by women in national parliaments\\xa0(%)']\n",
    "environment_indicators =['Individuals using the Interneth\\xa0(per 100 inhabitants)', 'Threatened species\\xa0(number)', 'Forested areah\\xa0(% of land area)', 'Energy production, primary\\xa0(Petajoules)', 'Energy supply per capita\\xa0(Gigajoules)', 'Important sites for terrestrial biodiversity protected\\xa0(%)', 'Pop. using safely managed drinking water\\xa0(urban/rural, %)', 'Net Official Development Assist. received\\xa0(% of GNI)']\n",
    "\n"
   ]
  },
  {
   "cell_type": "code",
   "execution_count": null,
   "metadata": {},
   "outputs": [],
   "source": []
  },
  {
   "cell_type": "code",
   "execution_count": 81,
   "metadata": {},
   "outputs": [],
   "source": [
    "def create_dataframe(data, indicators):\n",
    "    countries = list(data.keys())\n",
    "    data_dict = {indicator: [] for indicator in indicators}\n",
    "    data_dict['Country'] = countries\n",
    "\n",
    "    for country in countries:\n",
    "        country_data = data[country]\n",
    "        for indicator in indicators:\n",
    "            value = country_data.get(indicator, None)\n",
    "            data_dict[indicator].append(value)\n",
    "\n",
    "    return pd.DataFrame(data_dict)\n",
    "\n",
    "# Create dataframes for each category\n",
    "general_info_df = create_dataframe(all_data_dict, general_info_indicators)\n",
    "economic_df = create_dataframe(all_data_dict, economic_indicators)\n",
    "social_df = create_dataframe(all_data_dict, social_indicators)\n",
    "environment_df = create_dataframe(all_data_dict, environment_indicators)\n",
    "general_info_df.to_csv('general_info.csv', index=False)\n",
    "environment_df.to_csv('environment.csv', index=False)\n",
    "economic_df.to_csv('economic.csv', index=False)\n",
    "social_df.to_csv('social.csv', index=False)"
   ]
  },
  {
   "cell_type": "code",
   "execution_count": 72,
   "metadata": {},
   "outputs": [
    {
     "name": "stdout",
     "output_type": "stream",
     "text": [
      "Data saved to transformed_data.csv\n"
     ]
    }
   ],
   "source": [
    "\n",
    "\n",
    "# Convert to DataFrame\n",
    "df = pd.DataFrame(transformed)\n",
    "\n",
    "# Save to CSV\n",
    "df.to_csv('transformed_data.csv', index=False)\n",
    "\n",
    "print(\"Data saved to transformed_data.csv\")"
   ]
  }
 ],
 "metadata": {
  "kernelspec": {
   "display_name": "Python 3",
   "language": "python",
   "name": "python3"
  },
  "language_info": {
   "codemirror_mode": {
    "name": "ipython",
    "version": 3
   },
   "file_extension": ".py",
   "mimetype": "text/x-python",
   "name": "python",
   "nbconvert_exporter": "python",
   "pygments_lexer": "ipython3",
   "version": "3.12.4"
  }
 },
 "nbformat": 4,
 "nbformat_minor": 2
}
