{
 "cells": [
  {
   "cell_type": "code",
   "execution_count": 2,
   "metadata": {},
   "outputs": [],
   "source": [
    "import requests\n",
    "import json\n",
    "from bs4 import BeautifulSoup\n",
    "import lxml\n",
    "import re\n",
    "import pandas as pd"
   ]
  },
  {
   "cell_type": "code",
   "execution_count": 3,
   "metadata": {},
   "outputs": [],
   "source": [
    "from IPython.core.interactiveshell import InteractiveShell\n",
    "\n",
    "# Set interactive shell to display all output\n",
    "InteractiveShell.ast_node_interactivity = \"all\"\n"
   ]
  },
  {
   "cell_type": "code",
   "execution_count": 4,
   "metadata": {},
   "outputs": [],
   "source": [
    "page = requests.get(\"https://data.un.org/\")\n",
    "soup = BeautifulSoup(page.content, 'lxml')\n",
    "main_page = soup.find(\"div\", {\"class\": \"CountryList\"})\n",
    "countries = [item.text.strip().split(\"\\n\") for item in main_page if len(item.text.strip()) > 1  ]\n",
    "countries_links = [item[\"href\"] for item in main_page.find_all(\"a\",href=True)]\n"
   ]
  },
  {
   "cell_type": "code",
   "execution_count": 6,
   "metadata": {},
   "outputs": [],
   "source": [
    "all_values_dict = {}\n",
    "all_countries_data={}\n",
    "for country,country_link  in enumerate(countries_links):\n",
    "    page2 = requests.get(f\"https://data.un.org/{country_link}\")\n",
    "    soup2 = BeautifulSoup(page2.content, 'lxml')\n",
    "    main_page2 = soup2.find_all('tr')\n",
    "    all_values_dict = {}  # Initialize the dictionary to store the values\n",
    "\n",
    "    for value in main_page2:\n",
    "        if len(value('td')) == 4:  # To make sure that the lists don't go out of range\n",
    "            year_2010 = value('td')[1].text.strip()\n",
    "            year_2015 = value('td')[2].text.strip()\n",
    "            year_2021 = value('td')[3].text.strip()\n",
    "            all_values_dict[value('td')[0].text.strip()] = [year_2010, year_2015, year_2021]\n",
    "        elif len(value('td')) >= 3:  # Ensure there are at least 3 'td' elements for the else condition\n",
    "            all_values_dict[value('td')[0].text.strip()] = value('td')[2].text.strip()\n",
    "\n",
    "    all_countries_data[countries[0][country]] = all_values_dict  # Assign the dictionary to the specified key\n",
    "with open('data.json', 'w') as fp:\n",
    "    json.dump(all_countries_data, fp)"
   ]
  },
  {
   "cell_type": "code",
   "execution_count": 357,
   "metadata": {},
   "outputs": [],
   "source": []
  }
 ],
 "metadata": {
  "kernelspec": {
   "display_name": "Python 3",
   "language": "python",
   "name": "python3"
  },
  "language_info": {
   "codemirror_mode": {
    "name": "ipython",
    "version": 3
   },
   "file_extension": ".py",
   "mimetype": "text/x-python",
   "name": "python",
   "nbconvert_exporter": "python",
   "pygments_lexer": "ipython3",
   "version": "3.12.4"
  }
 },
 "nbformat": 4,
 "nbformat_minor": 2
}
