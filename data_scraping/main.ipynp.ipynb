{
 "cells": [
  {
   "cell_type": "code",
   "execution_count": 2,
   "metadata": {},
   "outputs": [],
   "source": [
    "import requests\n",
    "import _json\n",
    "from bs4 import BeautifulSoup\n",
    "import lxml"
   ]
  },
  {
   "cell_type": "code",
   "execution_count": 28,
   "metadata": {},
   "outputs": [],
   "source": [
    "from IPython.core.interactiveshell import InteractiveShell\n",
    "\n",
    "# Set interactive shell to display all output\n",
    "InteractiveShell.ast_node_interactivity = \"all\"\n"
   ]
  },
  {
   "cell_type": "code",
   "execution_count": null,
   "metadata": {},
   "outputs": [],
   "source": [
    "page = requests.get(\"https://data.un.org/\")\n",
    "soup = BeautifulSoup(page.content, 'lxml')\n",
    "main_page = soup.find(\"div\", {\"class\": \"CountryList\"})\n",
    "countries = [item.text.strip().split(\"\\n\") for item in main_page ]\n",
    "countries_links = [item[\"href\"] for item in main_page.find_all(\"a\",href=True)]\n",
    "print(countries_links)        "
   ]
  },
  {
   "cell_type": "code",
   "execution_count": 158,
   "metadata": {},
   "outputs": [
    {
     "name": "stdout",
     "output_type": "stream",
     "text": [
      "Southern Asia\n",
      "39 835a\n",
      "3.3\n",
      "24.8\n",
      "4\n",
      "44.9 /        4.0\n",
      "Southern Europe\n",
      "2 873a\n",
      "-0.4\n",
      "57.4\n",
      "1.8\n",
      "18.7 /       17.9\n"
     ]
    }
   ],
   "source": [
    "for country_link in countries_links[:2]:\n",
    "    page2 = requests.get(f\"https://data.un.org/{country_link}\")\n",
    "    soup2 = BeautifulSoup(page2.content, 'lxml')\n",
    "    main_page2 = soup2.select(\".pure-table tr\")\n",
    "    target_string = [\"Region\"]\n",
    "    for i in target_string:\n",
    "        \n",
    "        for row in main_page2:\n",
    "            cells = row.find_all('td')\n",
    "            if i.lower() in cells[0].get_text(strip=True).lower():\n",
    "                print(cells[2].text.strip())\n",
    " \n",
    "\n"
   ]
  }
 ],
 "metadata": {
  "kernelspec": {
   "display_name": "Python 3",
   "language": "python",
   "name": "python3"
  },
  "language_info": {
   "codemirror_mode": {
    "name": "ipython",
    "version": 3
   },
   "file_extension": ".py",
   "mimetype": "text/x-python",
   "name": "python",
   "nbconvert_exporter": "python",
   "pygments_lexer": "ipython3",
   "version": "3.12.4"
  }
 },
 "nbformat": 4,
 "nbformat_minor": 2
}
